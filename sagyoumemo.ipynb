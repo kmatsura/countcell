{
 "cells": [
  {
   "cell_type": "code",
   "execution_count": 187,
   "metadata": {},
   "outputs": [],
   "source": [
    "import numpy as np\n",
    "import matplotlib.pyplot as plt\n",
    "import os \n",
    "import glob\n",
    "import sys\n",
    "import tifffile"
   ]
  },
  {
   "cell_type": "code",
   "execution_count": 173,
   "metadata": {},
   "outputs": [],
   "source": [
    "datadir = \"/home/kmatsuura/countcell/data/b\""
   ]
  },
  {
   "cell_type": "code",
   "execution_count": 167,
   "metadata": {},
   "outputs": [
    {
     "data": {
      "text/plain": [
       "['/home/kmatsuura/countcell/data/b/200205_SG1_DM_Image000_ch01-2.tif',\n",
       " '/home/kmatsuura/countcell/data/b/200205_SG1_DM_Image000_ch01-6.tif',\n",
       " '/home/kmatsuura/countcell/data/b/200205_SG1_DM_Image000_ch01-8.tif',\n",
       " '/home/kmatsuura/countcell/data/b/200205_SG1_DM_Image000_ch01-4.tif',\n",
       " '/home/kmatsuura/countcell/data/b/200205_SG1_DM_Image000_ch01-5.tif',\n",
       " '/home/kmatsuura/countcell/data/b/200205_SG1_DM_Image000_ch01-0.tif',\n",
       " '/home/kmatsuura/countcell/data/b/200205_SG1_DM_Image000_ch01-7.tif',\n",
       " '/home/kmatsuura/countcell/data/b/200205_SG1_DM_Image000_ch01-9.tif',\n",
       " '/home/kmatsuura/countcell/data/b/200205_SG1_DM_Image000_ch01-3.tif',\n",
       " '/home/kmatsuura/countcell/data/b/200205_SG1_DM_Image000_ch01-1.tif']"
      ]
     },
     "execution_count": 167,
     "metadata": {},
     "output_type": "execute_result"
    }
   ],
   "source": [
    "glob.glob(datadir+\"/*.tif\")"
   ]
  },
  {
   "cell_type": "markdown",
   "metadata": {},
   "source": [
    "# test"
   ]
  },
  {
   "cell_type": "code",
   "execution_count": 45,
   "metadata": {},
   "outputs": [],
   "source": [
    "filename = \"200205_SG1_DM_Image000_ch01-0.tif\"\n",
    "filepath = os.path.join(datadir, filename)"
   ]
  },
  {
   "cell_type": "code",
   "execution_count": 46,
   "metadata": {},
   "outputs": [
    {
     "data": {
      "text/plain": [
       "'/home/kmatsuura/countcell/data/b/200205_SG1_DM_Image000_ch01-0.tif'"
      ]
     },
     "execution_count": 46,
     "metadata": {},
     "output_type": "execute_result"
    }
   ],
   "source": [
    "filepath"
   ]
  },
  {
   "cell_type": "code",
   "execution_count": 47,
   "metadata": {},
   "outputs": [],
   "source": [
    "image = tifffile.imread(filepath)"
   ]
  },
  {
   "cell_type": "code",
   "execution_count": 48,
   "metadata": {},
   "outputs": [
    {
     "data": {
      "text/plain": [
       "<matplotlib.image.AxesImage at 0x7fe085ccb750>"
      ]
     },
     "execution_count": 48,
     "metadata": {},
     "output_type": "execute_result"
    },
    {
     "data": {
      "image/png": "[encoded data removed]",
      "text/plain": [
       "<Figure size 432x288 with 1 Axes>"
      ]
     },
     "metadata": {
      "needs_background": "light"
     },
     "output_type": "display_data"
    }
   ],
   "source": [
    "plt.imshow(image)"
   ]
  },
  {
   "cell_type": "code",
   "execution_count": 49,
   "metadata": {},
   "outputs": [],
   "source": [
    "image = np.array(image)"
   ]
  },
  {
   "cell_type": "code",
   "execution_count": 50,
   "metadata": {},
   "outputs": [],
   "source": [
    "imagegreen = image[:,:,1]"
   ]
  },
  {
   "cell_type": "code",
   "execution_count": 79,
   "metadata": {},
   "outputs": [],
   "source": [
    "imagegreenbright = (imagegreen-1)*20"
   ]
  },
  {
   "cell_type": "code",
   "execution_count": 1,
   "metadata": {},
   "outputs": [
    {
     "ename": "NameError",
     "evalue": "name 'plt' is not defined",
     "output_type": "error",
     "traceback": [
      "\u001b[0;31m---------------------------------------------------------------------------\u001b[0m",
      "\u001b[0;31mNameError\u001b[0m                                 Traceback (most recent call last)",
      "\u001b[0;32m<ipython-input-1-e56a812e38b2>\u001b[0m in \u001b[0;36m<module>\u001b[0;34m\u001b[0m\n\u001b[0;32m----> 1\u001b[0;31m \u001b[0mfig\u001b[0m \u001b[0;34m=\u001b[0m \u001b[0mplt\u001b[0m\u001b[0;34m.\u001b[0m\u001b[0mfigure\u001b[0m\u001b[0;34m(\u001b[0m\u001b[0mfigsize\u001b[0m\u001b[0;34m=\u001b[0m\u001b[0;34m(\u001b[0m\u001b[0;36m15\u001b[0m\u001b[0;34m,\u001b[0m\u001b[0;36m15\u001b[0m\u001b[0;34m)\u001b[0m\u001b[0;34m)\u001b[0m\u001b[0;34m\u001b[0m\u001b[0;34m\u001b[0m\u001b[0m\n\u001b[0m",
      "\u001b[0;31mNameError\u001b[0m: name 'plt' is not defined"
     ]
    }
   ],
   "source": [
    "fig = plt.figure(figsize=(15,15))"
   ]
  },
  {
   "cell_type": "code",
   "execution_count": 97,
   "metadata": {},
   "outputs": [
    {
     "data": {
      "text/plain": [
       "(260, 348)"
      ]
     },
     "execution_count": 97,
     "metadata": {},
     "output_type": "execute_result"
    }
   ],
   "source": [
    "imagegreen.shape"
   ]
  },
  {
   "cell_type": "code",
   "execution_count": 111,
   "metadata": {},
   "outputs": [],
   "source": [
    "region = np.zeros(imagegreen.shape,int)"
   ]
  },
  {
   "cell_type": "code",
   "execution_count": 127,
   "metadata": {},
   "outputs": [
    {
     "data": {
      "text/plain": [
       "4.007261273209549"
      ]
     },
     "execution_count": 127,
     "metadata": {},
     "output_type": "execute_result"
    }
   ],
   "source": [
    "np.mean(imagegreen)"
   ]
  },
  {
   "cell_type": "code",
   "execution_count": 164,
   "metadata": {},
   "outputs": [],
   "source": [
    "threshhold = np.mean(imagegreen) + 1\n",
    "region = np.zeros(imagegreen.shape,int)\n",
    "for i in range(imagegreen.shape[0]):\n",
    "    for j in range(imagegreen.shape[1]):\n",
    "        if imagegreen[i][j] > threshhold:\n",
    "            region[i][j] = 1"
   ]
  },
  {
   "cell_type": "code",
   "execution_count": 2,
   "metadata": {},
   "outputs": [
    {
     "ename": "NameError",
     "evalue": "name 'plt' is not defined",
     "output_type": "error",
     "traceback": [
      "\u001b[0;31m---------------------------------------------------------------------------\u001b[0m",
      "\u001b[0;31mNameError\u001b[0m                                 Traceback (most recent call last)",
      "\u001b[0;32m<ipython-input-2-c7a55a46fb4a>\u001b[0m in \u001b[0;36m<module>\u001b[0;34m\u001b[0m\n\u001b[0;32m----> 1\u001b[0;31m \u001b[0mplt\u001b[0m\u001b[0;34m.\u001b[0m\u001b[0mimshow\u001b[0m\u001b[0;34m(\u001b[0m\u001b[0mregion\u001b[0m\u001b[0;34m)\u001b[0m\u001b[0;34m\u001b[0m\u001b[0;34m\u001b[0m\u001b[0m\n\u001b[0m\u001b[1;32m      2\u001b[0m \u001b[0mplt\u001b[0m\u001b[0;34m.\u001b[0m\u001b[0msavefig\u001b[0m\u001b[0;34m(\u001b[0m\u001b[0;34m\"test.png\"\u001b[0m\u001b[0;34m)\u001b[0m\u001b[0;34m\u001b[0m\u001b[0;34m\u001b[0m\u001b[0m\n",
      "\u001b[0;31mNameError\u001b[0m: name 'plt' is not defined"
     ]
    }
   ],
   "source": [
    "plt.imshow(region)\n",
    "plt.savefig(\"test.png\")"
   ]
  },
  {
   "cell_type": "code",
   "execution_count": 154,
   "metadata": {},
   "outputs": [],
   "source": [
    "region2 = np.zeros(imagegreen.shape,int)\n",
    "for i in range(region.shape[0]):\n",
    "    for j in range(region.shape[1]-4):\n",
    "        if region[i][j] + region[i][j+1] + region[i][j+2] + region[i][j+3] + region[i][j+4] >= 4:\n",
    "            region2[i][j] = 1"
   ]
  },
  {
   "cell_type": "code",
   "execution_count": 3,
   "metadata": {},
   "outputs": [
    {
     "ename": "NameError",
     "evalue": "name 'plt' is not defined",
     "output_type": "error",
     "traceback": [
      "\u001b[0;31m---------------------------------------------------------------------------\u001b[0m",
      "\u001b[0;31mNameError\u001b[0m                                 Traceback (most recent call last)",
      "\u001b[0;32m<ipython-input-3-5516cd4f34b2>\u001b[0m in \u001b[0;36m<module>\u001b[0;34m\u001b[0m\n\u001b[0;32m----> 1\u001b[0;31m \u001b[0mplt\u001b[0m\u001b[0;34m.\u001b[0m\u001b[0mimshow\u001b[0m\u001b[0;34m(\u001b[0m\u001b[0mregion2\u001b[0m\u001b[0;34m)\u001b[0m\u001b[0;34m\u001b[0m\u001b[0;34m\u001b[0m\u001b[0m\n\u001b[0m",
      "\u001b[0;31mNameError\u001b[0m: name 'plt' is not defined"
     ]
    }
   ],
   "source": [
    "plt.imshow(region2)"
   ]
  },
  {
   "cell_type": "code",
   "execution_count": 156,
   "metadata": {},
   "outputs": [],
   "source": [
    "region3 = np.zeros(imagegreen.shape,int)\n",
    "for i in range(region2.shape[1]):\n",
    "    for j in range(region2.shape[0]-4):\n",
    "        if region2[j][i] + region2[j+1][i] + region2[j+2][i] + region2[j+3][i] + region2[j+4][i] >= 4:\n",
    "            region3[j][i] = 1"
   ]
  },
  {
   "cell_type": "code",
   "execution_count": 4,
   "metadata": {},
   "outputs": [
    {
     "ename": "NameError",
     "evalue": "name 'plt' is not defined",
     "output_type": "error",
     "traceback": [
      "\u001b[0;31m---------------------------------------------------------------------------\u001b[0m",
      "\u001b[0;31mNameError\u001b[0m                                 Traceback (most recent call last)",
      "\u001b[0;32m<ipython-input-4-d40db597ba76>\u001b[0m in \u001b[0;36m<module>\u001b[0;34m\u001b[0m\n\u001b[0;32m----> 1\u001b[0;31m \u001b[0mplt\u001b[0m\u001b[0;34m.\u001b[0m\u001b[0mimshow\u001b[0m\u001b[0;34m(\u001b[0m\u001b[0mregion3\u001b[0m\u001b[0;34m)\u001b[0m\u001b[0;34m\u001b[0m\u001b[0;34m\u001b[0m\u001b[0m\n\u001b[0m",
      "\u001b[0;31mNameError\u001b[0m: name 'plt' is not defined"
     ]
    }
   ],
   "source": [
    "plt.imshow(region3)"
   ]
  },
  {
   "cell_type": "code",
   "execution_count": 185,
   "metadata": {},
   "outputs": [
    {
     "data": {
      "text/plain": [
       "True"
      ]
     },
     "execution_count": 185,
     "metadata": {},
     "output_type": "execute_result"
    }
   ],
   "source": [
    "os.path.exists(datadir)"
   ]
  },
  {
   "cell_type": "code",
   "execution_count": 198,
   "metadata": {},
   "outputs": [],
   "source": [
    "def gazouhenkan(inputdir, outputdir):\n",
    "    if not os.path.exists(outputdir): #outputdirのパスが存在しなければ作る。\n",
    "        os.mkdir(outputdir)\n",
    "        \n",
    "    def gazousyori(fpath):\n",
    "        image = tifffile.imread(fpath)\n",
    "        imagegreen = image[:,:,1]\n",
    "        imagegreenbright = (imagegreen-1)*20\n",
    "        \n",
    "        threshhold = np.mean(imagegreen) + 1\n",
    "        region = np.zeros(imagegreen.shape,int)\n",
    "        for i in range(imagegreen.shape[0]):\n",
    "            for j in range(imagegreen.shape[1]):\n",
    "                if imagegreen[i][j] > threshhold:\n",
    "                    region[i][j] = 1\n",
    "                \n",
    "        region2 = np.zeros(imagegreen.shape,int)\n",
    "        for i in range(region.shape[0]):\n",
    "            for j in range(region.shape[1]-4):\n",
    "                if region[i][j] + region[i][j+1] + region[i][j+2] + region[i][j+3] + region[i][j+4] >= 4:\n",
    "                    region2[i][j] = 1\n",
    "                    \n",
    "        region3 = np.zeros(imagegreen.shape,int)\n",
    "        for i in range(region2.shape[1]):\n",
    "            for j in range(region2.shape[0]-4):\n",
    "                if region2[j][i] + region2[j+1][i] + region2[j+2][i] + region2[j+3][i] + region2[j+4][i] >= 4:\n",
    "                    region3[j][i] = 1\n",
    "        return region3\n",
    "    \n",
    "    def save(image, fpath, outputdir):\n",
    "        fname = fpath.split(inputdir+\"/\")[1].replace(\".tif\",\".png\")\n",
    "        outputpath = os.path.join(outputdir, fname)\n",
    "        plt.imshow(image)\n",
    "        plt.savefig(outputpath)\n",
    "        print('save:', fname)\n",
    "        return save\n",
    "    \n",
    "    filelist = glob.glob(inputdir + \"/*.tif\")\n",
    "    for fpath in filelist:\n",
    "        outputimage = gazousyori(fpath)\n",
    "        save(outputimage, fpath, outputdir)\n",
    "        "
   ]
  },
  {
   "cell_type": "code",
   "execution_count": 5,
   "metadata": {},
   "outputs": [
    {
     "ename": "NameError",
     "evalue": "name 'gazouhenkan' is not defined",
     "output_type": "error",
     "traceback": [
      "\u001b[0;31m---------------------------------------------------------------------------\u001b[0m",
      "\u001b[0;31mNameError\u001b[0m                                 Traceback (most recent call last)",
      "\u001b[0;32m<ipython-input-5-5edad35ae98e>\u001b[0m in \u001b[0;36m<module>\u001b[0;34m\u001b[0m\n\u001b[0;32m----> 1\u001b[0;31m \u001b[0mgazouhenkan\u001b[0m\u001b[0;34m(\u001b[0m\u001b[0mdatadir\u001b[0m\u001b[0;34m,\u001b[0m\u001b[0;34m\"/home/kmatsuura/countcell/data/henkan\"\u001b[0m\u001b[0;34m)\u001b[0m\u001b[0;34m\u001b[0m\u001b[0;34m\u001b[0m\u001b[0m\n\u001b[0m",
      "\u001b[0;31mNameError\u001b[0m: name 'gazouhenkan' is not defined"
     ]
    }
   ],
   "source": [
    "gazouhenkan(datadir,\"/home/kmatsuura/countcell/data/henkan\")"
   ]
  },
  {
   "cell_type": "code",
   "execution_count": null,
   "metadata": {},
   "outputs": [],
   "source": []
  }
 ],
 "metadata": {
  "kernelspec": {
   "display_name": "Python 3",
   "language": "python",
   "name": "python3"
  },
  "language_info": {
   "codemirror_mode": {
    "name": "ipython",
    "version": 3
   },
   "file_extension": ".py",
   "mimetype": "text/x-python",
   "name": "python",
   "nbconvert_exporter": "python",
   "pygments_lexer": "ipython3",
   "version": "3.7.5"
  }
 },
 "nbformat": 4,
 "nbformat_minor": 4
}
