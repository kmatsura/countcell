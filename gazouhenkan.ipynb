{
 "cells": [
  {
   "cell_type": "markdown",
   "metadata": {},
   "source": [
    "## moduleのインポート\n",
    "tifffileが入ってない場合は、\n",
    "```\n",
    "pip install tifffile\n",
    "```"
   ]
  },
  {
   "cell_type": "code",
   "execution_count": 4,
   "metadata": {},
   "outputs": [],
   "source": [
    "import numpy as np\n",
    "import matplotlib.pyplot as plt\n",
    "import os \n",
    "import glob\n",
    "import tifffile"
   ]
  },
  {
   "cell_type": "markdown",
   "metadata": {},
   "source": [
    "## 実行\n",
    "入力はtifファイル、出力はpngファイル"
   ]
  },
  {
   "cell_type": "code",
   "execution_count": 5,
   "metadata": {},
   "outputs": [],
   "source": [
    "# 自分で設定する\n",
    "inputdir = \"/home/kmatsuura/countcell/data/b\"\n",
    "outputdir = \"/home/kmatsuura/countcell/data/henkango\""
   ]
  },
  {
   "cell_type": "code",
   "execution_count": 6,
   "metadata": {},
   "outputs": [
    {
     "name": "stdout",
     "output_type": "stream",
     "text": [
      "save: 200205_SG1_DM_Image000_ch01-2.png\n",
      "save: 200205_SG1_DM_Image000_ch01-6.png\n",
      "save: 200205_SG1_DM_Image000_ch01-8.png\n",
      "save: 200205_SG1_DM_Image000_ch01-4.png\n",
      "save: 200205_SG1_DM_Image000_ch01-5.png\n",
      "save: 200205_SG1_DM_Image000_ch01-0.png\n",
      "save: 200205_SG1_DM_Image000_ch01-7.png\n",
      "save: 200205_SG1_DM_Image000_ch01-9.png\n",
      "save: 200205_SG1_DM_Image000_ch01-3.png\n",
      "save: 200205_SG1_DM_Image000_ch01-1.png\n"
     ]
    },
    {
     "data": {
      "image/png": "[encoded data removed]",
      "text/plain": [
       "<Figure size 432x288 with 1 Axes>"
      ]
     },
     "metadata": {
      "needs_background": "light"
     },
     "output_type": "display_data"
    }
   ],
   "source": [
    "def gazouhenkan(inputdir, outputdir):\n",
    "    if not os.path.exists(outputdir): #outputdirのパスが存在しなければ作る。\n",
    "        os.mkdir(outputdir)\n",
    "        \n",
    "    def gazousyori(fpath):\n",
    "        image = tifffile.imread(fpath)\n",
    "        imagegreen = image[:,:,1]\n",
    "        imagegreenbright = (imagegreen-1)*20\n",
    "        \n",
    "        threshhold = np.mean(imagegreen) + 1\n",
    "        region = np.zeros(imagegreen.shape,int)\n",
    "        for i in range(imagegreen.shape[0]):\n",
    "            for j in range(imagegreen.shape[1]):\n",
    "                if imagegreen[i][j] > threshhold:\n",
    "                    region[i][j] = 1\n",
    "                \n",
    "        region2 = np.zeros(imagegreen.shape,int)\n",
    "        for i in range(region.shape[0]):\n",
    "            for j in range(region.shape[1]-4):\n",
    "                if region[i][j] + region[i][j+1] + region[i][j+2] + region[i][j+3] + region[i][j+4] >= 4:\n",
    "                    region2[i][j] = 1\n",
    "                    \n",
    "        region3 = np.zeros(imagegreen.shape,int)\n",
    "        for i in range(region2.shape[1]):\n",
    "            for j in range(region2.shape[0]-4):\n",
    "                if region2[j][i] + region2[j+1][i] + region2[j+2][i] + region2[j+3][i] + region2[j+4][i] >= 4:\n",
    "                    region3[j][i] = 1\n",
    "        return region3\n",
    "    \n",
    "    def save(image, fpath, outputdir):\n",
    "        fname = fpath.split(inputdir+\"/\")[1].replace(\".tif\",\".png\")\n",
    "        outputpath = os.path.join(outputdir, fname)\n",
    "        plt.imshow(image)\n",
    "        plt.savefig(outputpath)\n",
    "        print('save:', fname)\n",
    "        return save\n",
    "    \n",
    "    filelist = glob.glob(inputdir + \"/*.tif\")\n",
    "    for fpath in filelist:\n",
    "        outputimage = gazousyori(fpath)\n",
    "        save(outputimage, fpath, outputdir)\n",
    "        \n",
    "        \n",
    "gazouhenkan(inputdir,outputdir)"
   ]
  }
 ],
 "metadata": {
  "kernelspec": {
   "display_name": "Python 3",
   "language": "python",
   "name": "python3"
  },
  "language_info": {
   "codemirror_mode": {
    "name": "ipython",
    "version": 3
   },
   "file_extension": ".py",
   "mimetype": "text/x-python",
   "name": "python",
   "nbconvert_exporter": "python",
   "pygments_lexer": "ipython3",
   "version": "3.7.5"
  }
 },
 "nbformat": 4,
 "nbformat_minor": 4
}
